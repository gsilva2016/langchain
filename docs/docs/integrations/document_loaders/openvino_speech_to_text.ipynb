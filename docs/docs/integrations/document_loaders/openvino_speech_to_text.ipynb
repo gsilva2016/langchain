{
 "cells": [
  {
   "cell_type": "markdown",
   "metadata": {},
   "source": [
    "# OpenVINO Speech-to-Text Audio Transcripts\n",
    "\n",
    "The `SpeechToTextLoader` allows to transcribe audio files with the [OpenVINO Speech-to-Text OVMOdelForSpeechSeq2Seq API](https://github.com/huggingface/optimum-intel/blob/main/docs/source/openvino/inference.mdx) and loads the transcribed text into documents.\n",
    "\n",
    "To use it, you should have the `optimum[openvino,nncf]` python package installed and ffmpeg.\n",
    "\n",
    "- [Optimizing Whisper and Distil-Whisper for Speech Recognition with OpenVINO and NNCF](https://blog.openvino.ai/blog-posts/optimizing-whisper-and-distil-whisper-for-speech-recognition-with-openvino-and-nncf)"
   ]
  },
  {
   "cell_type": "markdown",
   "metadata": {},
   "source": [
    "## Installation & setup\n",
    "\n",
    "First, you need to install the `optimum[openvino,nncf]` [python package.](https://github.com/huggingface/optimum-intel?tab=readme-ov-file#installation)\n"
   ]
  },
  {
   "cell_type": "code",
   "execution_count": null,
   "metadata": {},
   "outputs": [],
   "source": [
    "%pip install --upgrade-strategy eager \"optimum[openvino,nncf]==1.23.3\" langchain-huggingface --quiet"
   ]
  },
  {
   "cell_type": "markdown",
   "metadata": {},
   "source": [
    "## Example\n",
    "\n",
    "The `OpenVINOSpeechToTextLoader` must include the `model_id` and `file_path` arguments. Audio files can be specified as a local file path.\n",
    "Additional optional arguments can also increase performance such as `device=\"GPU\"`, `load_in_8bit=True`, `batch_size=2`"
   ]
  },
  {
   "cell_type": "code",
   "execution_count": null,
   "metadata": {},
   "outputs": [],
   "source": [
    "!apt-get update && apt-get install wget ffmpeg -y\n",
    "!wget -O audio.wav \"https://github.com/intel/intel-extension-for-transformers/raw/refs/heads/main/intel_extension_for_transformers/neural_chat/assets/audio/welcome.wav\""
   ]
  },
  {
   "cell_type": "code",
   "execution_count": null,
   "metadata": {},
   "outputs": [],
   "source": [
    "from langchain_community.document_loaders import OpenVINOSpeechToTextLoader\n",
    "\n",
    "model_id = \"distil-whisper/distil-small.en\"\n",
    "file_path = \"./audio.wav\" # mp3 also supported\n",
    "\n",
    "loader = OpenVINOSpeechToTextLoader(file_path, model_id, device=\"CPU\") \n",
    "\n",
    "docs = loader.load()"
   ]
  },
  {
   "cell_type": "markdown",
   "metadata": {},
   "source": [
    "Note: Calling `loader.load()` blocks until the transcription is finished."
   ]
  },
  {
   "cell_type": "markdown",
   "metadata": {},
   "source": [
    "The transcribed text is available in the `page_content`:"
   ]
  },
  {
   "cell_type": "code",
   "execution_count": null,
   "metadata": {},
   "outputs": [],
   "source": [
    "docs[0].page_content"
   ]
  },
  {
   "cell_type": "markdown",
   "metadata": {},
   "source": [
    "```\n",
    "\"Welcome to neural chat.\"\n",
    "```"
   ]
  },
  {
   "cell_type": "markdown",
   "metadata": {},
   "source": [
    "The `metadata` contains the full JSON response with more meta information:"
   ]
  },
  {
   "cell_type": "code",
   "execution_count": null,
   "metadata": {},
   "outputs": [],
   "source": [
    "docs[0].metadata"
   ]
  },
  {
   "cell_type": "markdown",
   "metadata": {},
   "source": [
    "```json\n",
    "{\n",
    "  'language': 'en-US',\n",
    "  'timestamp': '(0.0, 13.0)','\n",
    "  'result_total_latency': '2'\n",
    "}\n",
    "```"
   ]
  }
 ],
 "metadata": {
  "kernelspec": {
   "display_name": "Python 3 (ipykernel)",
   "language": "python",
   "name": "python3"
  },
  "language_info": {
   "codemirror_mode": {
    "name": "ipython",
    "version": 3
   },
   "file_extension": ".py",
   "mimetype": "text/x-python",
   "name": "python",
   "nbconvert_exporter": "python",
   "pygments_lexer": "ipython3",
   "version": "3.10.12"
  }
 },
 "nbformat": 4,
 "nbformat_minor": 4
}
